{
 "cells": [
  {
   "cell_type": "code",
   "execution_count": 49,
   "metadata": {},
   "outputs": [],
   "source": [
    "import numpy as np\n",
    "import pandas as pd\n",
    "#import seaborn as sns\n",
    "#IMPORTING AND CALIBRATING MATPLOTLIB\n",
    "import matplotlib\n",
    "import matplotlib.pyplot as plt \n",
    "%matplotlib inline"
   ]
  },
  {
   "cell_type": "code",
   "execution_count": 50,
   "metadata": {},
   "outputs": [],
   "source": [
    "#Upload Dilan Travel guide unique users into Dataframe\n",
    "Dilan_Users = pd.read_csv('new_readers.csv', delimiter=';', names = ['my_date', 'event_type', 'country','user_id', 'source','topic'])"
   ]
  },
  {
   "cell_type": "code",
   "execution_count": 51,
   "metadata": {},
   "outputs": [
    {
     "data": {
      "text/html": [
       "<div>\n",
       "<style scoped>\n",
       "    .dataframe tbody tr th:only-of-type {\n",
       "        vertical-align: middle;\n",
       "    }\n",
       "\n",
       "    .dataframe tbody tr th {\n",
       "        vertical-align: top;\n",
       "    }\n",
       "\n",
       "    .dataframe thead th {\n",
       "        text-align: right;\n",
       "    }\n",
       "</style>\n",
       "<table border=\"1\" class=\"dataframe\">\n",
       "  <thead>\n",
       "    <tr style=\"text-align: right;\">\n",
       "      <th></th>\n",
       "      <th>my_date</th>\n",
       "      <th>event_type</th>\n",
       "      <th>country</th>\n",
       "      <th>user_id</th>\n",
       "      <th>source</th>\n",
       "      <th>topic</th>\n",
       "    </tr>\n",
       "  </thead>\n",
       "  <tbody>\n",
       "    <tr>\n",
       "      <th>0</th>\n",
       "      <td>2018-01-01 00:01:01</td>\n",
       "      <td>read</td>\n",
       "      <td>country_7</td>\n",
       "      <td>2458151261</td>\n",
       "      <td>SEO</td>\n",
       "      <td>North America</td>\n",
       "    </tr>\n",
       "    <tr>\n",
       "      <th>1</th>\n",
       "      <td>2018-01-01 00:03:20</td>\n",
       "      <td>read</td>\n",
       "      <td>country_7</td>\n",
       "      <td>2458151262</td>\n",
       "      <td>SEO</td>\n",
       "      <td>South America</td>\n",
       "    </tr>\n",
       "    <tr>\n",
       "      <th>2</th>\n",
       "      <td>2018-01-01 00:04:01</td>\n",
       "      <td>read</td>\n",
       "      <td>country_7</td>\n",
       "      <td>2458151263</td>\n",
       "      <td>AdWords</td>\n",
       "      <td>Africa</td>\n",
       "    </tr>\n",
       "    <tr>\n",
       "      <th>3</th>\n",
       "      <td>2018-01-01 00:04:02</td>\n",
       "      <td>read</td>\n",
       "      <td>country_7</td>\n",
       "      <td>2458151264</td>\n",
       "      <td>AdWords</td>\n",
       "      <td>Europe</td>\n",
       "    </tr>\n",
       "    <tr>\n",
       "      <th>4</th>\n",
       "      <td>2018-01-01 00:05:03</td>\n",
       "      <td>read</td>\n",
       "      <td>country_8</td>\n",
       "      <td>2458151265</td>\n",
       "      <td>Reddit</td>\n",
       "      <td>North America</td>\n",
       "    </tr>\n",
       "    <tr>\n",
       "      <th>5</th>\n",
       "      <td>2018-01-01 00:05:42</td>\n",
       "      <td>read</td>\n",
       "      <td>country_6</td>\n",
       "      <td>2458151266</td>\n",
       "      <td>Reddit</td>\n",
       "      <td>North America</td>\n",
       "    </tr>\n",
       "    <tr>\n",
       "      <th>6</th>\n",
       "      <td>2018-01-01 00:06:06</td>\n",
       "      <td>read</td>\n",
       "      <td>country_2</td>\n",
       "      <td>2458151267</td>\n",
       "      <td>Reddit</td>\n",
       "      <td>Europe</td>\n",
       "    </tr>\n",
       "    <tr>\n",
       "      <th>7</th>\n",
       "      <td>2018-01-01 00:06:15</td>\n",
       "      <td>read</td>\n",
       "      <td>country_6</td>\n",
       "      <td>2458151268</td>\n",
       "      <td>AdWords</td>\n",
       "      <td>Europe</td>\n",
       "    </tr>\n",
       "    <tr>\n",
       "      <th>8</th>\n",
       "      <td>2018-01-01 00:07:21</td>\n",
       "      <td>read</td>\n",
       "      <td>country_7</td>\n",
       "      <td>2458151269</td>\n",
       "      <td>AdWords</td>\n",
       "      <td>North America</td>\n",
       "    </tr>\n",
       "    <tr>\n",
       "      <th>9</th>\n",
       "      <td>2018-01-01 00:07:29</td>\n",
       "      <td>read</td>\n",
       "      <td>country_5</td>\n",
       "      <td>2458151270</td>\n",
       "      <td>Reddit</td>\n",
       "      <td>North America</td>\n",
       "    </tr>\n",
       "  </tbody>\n",
       "</table>\n",
       "</div>"
      ],
      "text/plain": [
       "               my_date event_type    country     user_id   source  \\\n",
       "0  2018-01-01 00:01:01       read  country_7  2458151261      SEO   \n",
       "1  2018-01-01 00:03:20       read  country_7  2458151262      SEO   \n",
       "2  2018-01-01 00:04:01       read  country_7  2458151263  AdWords   \n",
       "3  2018-01-01 00:04:02       read  country_7  2458151264  AdWords   \n",
       "4  2018-01-01 00:05:03       read  country_8  2458151265   Reddit   \n",
       "5  2018-01-01 00:05:42       read  country_6  2458151266   Reddit   \n",
       "6  2018-01-01 00:06:06       read  country_2  2458151267   Reddit   \n",
       "7  2018-01-01 00:06:15       read  country_6  2458151268  AdWords   \n",
       "8  2018-01-01 00:07:21       read  country_7  2458151269  AdWords   \n",
       "9  2018-01-01 00:07:29       read  country_5  2458151270   Reddit   \n",
       "\n",
       "           topic  \n",
       "0  North America  \n",
       "1  South America  \n",
       "2         Africa  \n",
       "3         Europe  \n",
       "4  North America  \n",
       "5  North America  \n",
       "6         Europe  \n",
       "7         Europe  \n",
       "8  North America  \n",
       "9  North America  "
      ]
     },
     "execution_count": 51,
     "metadata": {},
     "output_type": "execute_result"
    }
   ],
   "source": [
    "Dilan_Users.head(10) "
   ]
  },
  {
   "cell_type": "code",
   "execution_count": 52,
   "metadata": {},
   "outputs": [
    {
     "data": {
      "image/png": "[encoded data removed]",
      "text/plain": [
       "<matplotlib.figure.Figure at 0x7febdcd71c88>"
      ]
     },
     "metadata": {
      "needs_background": "light"
     },
     "output_type": "display_data"
    },
    {
     "name": "stdout",
     "output_type": "stream",
     "text": [
      "           user_id\n",
      "country           \n",
      "country_1     5076\n",
      "country_2    50675\n",
      "country_3     2742\n",
      "country_4    12751\n",
      "country_5    40349\n",
      "country_6    31156\n",
      "country_7    51791\n",
      "country_8    15483\n"
     ]
    }
   ],
   "source": [
    "###This section of code is to identify all users by Country.\n",
    "x = Dilan_Users['country'].unique() #Get unique list of country\n",
    "x = pd.Series(x).sort_values() #pandas method to sort values\n",
    "y = Dilan_Users.groupby(['country']).count()[['user_id']]\n",
    "ind = np.arange(len(x))\n",
    "width = .35\n",
    "plt1 = plt.bar(x, y['user_id'], width, color='b') \n",
    "plt.xlabel('Country')\n",
    "plt.xticks(ind, x, rotation='vertical')\n",
    "plt.ylabel('Users')\n",
    "plt.title('Dylan Travel Guide - Users per Country')\n",
    "plt.show()\n",
    "print(y)"
   ]
  },
  {
   "cell_type": "code",
   "execution_count": 53,
   "metadata": {},
   "outputs": [],
   "source": [
    "#Upload Dilan Travel guide buyers into Dataframe\n",
    "Dilan_Buyers = pd.read_csv('all_buyers.csv', delimiter=';', names = ['my_date', 'event_type', 'user_id','price'])"
   ]
  },
  {
   "cell_type": "code",
   "execution_count": 54,
   "metadata": {},
   "outputs": [
    {
     "data": {
      "text/html": [
       "<div>\n",
       "<style scoped>\n",
       "    .dataframe tbody tr th:only-of-type {\n",
       "        vertical-align: middle;\n",
       "    }\n",
       "\n",
       "    .dataframe tbody tr th {\n",
       "        vertical-align: top;\n",
       "    }\n",
       "\n",
       "    .dataframe thead th {\n",
       "        text-align: right;\n",
       "    }\n",
       "</style>\n",
       "<table border=\"1\" class=\"dataframe\">\n",
       "  <thead>\n",
       "    <tr style=\"text-align: right;\">\n",
       "      <th></th>\n",
       "      <th>my_date</th>\n",
       "      <th>event_type</th>\n",
       "      <th>user_id</th>\n",
       "      <th>price</th>\n",
       "    </tr>\n",
       "  </thead>\n",
       "  <tbody>\n",
       "    <tr>\n",
       "      <th>0</th>\n",
       "      <td>2018-01-01 04:04:59</td>\n",
       "      <td>buy</td>\n",
       "      <td>2458151555</td>\n",
       "      <td>8</td>\n",
       "    </tr>\n",
       "    <tr>\n",
       "      <th>1</th>\n",
       "      <td>2018-01-01 09:28:00</td>\n",
       "      <td>buy</td>\n",
       "      <td>2458151933</td>\n",
       "      <td>8</td>\n",
       "    </tr>\n",
       "    <tr>\n",
       "      <th>2</th>\n",
       "      <td>2018-01-01 13:23:16</td>\n",
       "      <td>buy</td>\n",
       "      <td>2458152245</td>\n",
       "      <td>8</td>\n",
       "    </tr>\n",
       "    <tr>\n",
       "      <th>3</th>\n",
       "      <td>2018-01-01 14:20:43</td>\n",
       "      <td>buy</td>\n",
       "      <td>2458152315</td>\n",
       "      <td>8</td>\n",
       "    </tr>\n",
       "    <tr>\n",
       "      <th>4</th>\n",
       "      <td>2018-01-01 16:56:04</td>\n",
       "      <td>buy</td>\n",
       "      <td>2458152371</td>\n",
       "      <td>8</td>\n",
       "    </tr>\n",
       "    <tr>\n",
       "      <th>5</th>\n",
       "      <td>2018-01-01 17:01:42</td>\n",
       "      <td>buy</td>\n",
       "      <td>2458152371</td>\n",
       "      <td>80</td>\n",
       "    </tr>\n",
       "    <tr>\n",
       "      <th>6</th>\n",
       "      <td>2018-01-01 18:59:49</td>\n",
       "      <td>buy</td>\n",
       "      <td>2458152315</td>\n",
       "      <td>80</td>\n",
       "    </tr>\n",
       "    <tr>\n",
       "      <th>7</th>\n",
       "      <td>2018-01-02 02:57:43</td>\n",
       "      <td>buy</td>\n",
       "      <td>2458153264</td>\n",
       "      <td>8</td>\n",
       "    </tr>\n",
       "    <tr>\n",
       "      <th>8</th>\n",
       "      <td>2018-01-02 03:48:38</td>\n",
       "      <td>buy</td>\n",
       "      <td>2458151481</td>\n",
       "      <td>8</td>\n",
       "    </tr>\n",
       "    <tr>\n",
       "      <th>9</th>\n",
       "      <td>2018-01-02 05:25:38</td>\n",
       "      <td>buy</td>\n",
       "      <td>2458152579</td>\n",
       "      <td>8</td>\n",
       "    </tr>\n",
       "  </tbody>\n",
       "</table>\n",
       "</div>"
      ],
      "text/plain": [
       "               my_date event_type     user_id  price\n",
       "0  2018-01-01 04:04:59        buy  2458151555      8\n",
       "1  2018-01-01 09:28:00        buy  2458151933      8\n",
       "2  2018-01-01 13:23:16        buy  2458152245      8\n",
       "3  2018-01-01 14:20:43        buy  2458152315      8\n",
       "4  2018-01-01 16:56:04        buy  2458152371      8\n",
       "5  2018-01-01 17:01:42        buy  2458152371     80\n",
       "6  2018-01-01 18:59:49        buy  2458152315     80\n",
       "7  2018-01-02 02:57:43        buy  2458153264      8\n",
       "8  2018-01-02 03:48:38        buy  2458151481      8\n",
       "9  2018-01-02 05:25:38        buy  2458152579      8"
      ]
     },
     "execution_count": 54,
     "metadata": {},
     "output_type": "execute_result"
    }
   ],
   "source": [
    "Dilan_Buyers.head(10)"
   ]
  },
  {
   "cell_type": "code",
   "execution_count": 55,
   "metadata": {},
   "outputs": [],
   "source": [
    "#Get the list of users that purchased (buyers) Dylan travel guide\n",
    "step_1 = Dilan_Users.merge(Dilan_Buyers, how = 'left', left_on = 'user_id', right_on = 'user_id')\n",
    "#Fill Null values with zero's\n",
    "step_2 = step_1.fillna(0)\n",
    "#Get the total amount of revenue (price) for each country\n",
    "step_3 = step_2.groupby('country').sum()[['price']]"
   ]
  },
  {
   "cell_type": "code",
   "execution_count": 56,
   "metadata": {},
   "outputs": [
    {
     "data": {
      "image/png": "[encoded data removed]",
      "text/plain": [
       "<matplotlib.figure.Figure at 0x7febdcce1e48>"
      ]
     },
     "metadata": {
      "needs_background": "light"
     },
     "output_type": "display_data"
    },
    {
     "name": "stdout",
     "output_type": "stream",
     "text": [
      "             price\n",
      "country           \n",
      "country_1    920.0\n",
      "country_2  39528.0\n",
      "country_3   3616.0\n",
      "country_4  33464.0\n",
      "country_5  57920.0\n",
      "country_6  16432.0\n",
      "country_7  39760.0\n",
      "country_8   2840.0\n"
     ]
    }
   ],
   "source": [
    "x = Dilan_Users['country'].unique() #Get unique list of country\n",
    "x = pd.Series(x).sort_values() #pandas method to sort values\n",
    "y = step_3 #revenue for each country\n",
    "ind = np.arange(len(x))\n",
    "width = .35\n",
    "plt1 = plt.bar(x, y['price'], width, color='g') \n",
    "plt.xlabel('Country')\n",
    "plt.xticks(ind, x, rotation='vertical')\n",
    "plt.ylabel('Revenue')\n",
    "plt.title('Dylan Travel Guide - Revenue per Country')\n",
    "plt.show()\n",
    "print(y)"
   ]
  },
  {
   "cell_type": "code",
   "execution_count": 57,
   "metadata": {},
   "outputs": [
    {
     "data": {
      "text/html": [
       "<div>\n",
       "<style scoped>\n",
       "    .dataframe tbody tr th:only-of-type {\n",
       "        vertical-align: middle;\n",
       "    }\n",
       "\n",
       "    .dataframe tbody tr th {\n",
       "        vertical-align: top;\n",
       "    }\n",
       "\n",
       "    .dataframe thead th {\n",
       "        text-align: right;\n",
       "    }\n",
       "</style>\n",
       "<table border=\"1\" class=\"dataframe\">\n",
       "  <thead>\n",
       "    <tr style=\"text-align: right;\">\n",
       "      <th></th>\n",
       "      <th>price</th>\n",
       "    </tr>\n",
       "    <tr>\n",
       "      <th>source</th>\n",
       "      <th></th>\n",
       "    </tr>\n",
       "  </thead>\n",
       "  <tbody>\n",
       "    <tr>\n",
       "      <th>AdWords</th>\n",
       "      <td>27664.0</td>\n",
       "    </tr>\n",
       "    <tr>\n",
       "      <th>Reddit</th>\n",
       "      <td>89760.0</td>\n",
       "    </tr>\n",
       "    <tr>\n",
       "      <th>SEO</th>\n",
       "      <td>77056.0</td>\n",
       "    </tr>\n",
       "  </tbody>\n",
       "</table>\n",
       "</div>"
      ],
      "text/plain": [
       "           price\n",
       "source          \n",
       "AdWords  27664.0\n",
       "Reddit   89760.0\n",
       "SEO      77056.0"
      ]
     },
     "execution_count": 57,
     "metadata": {},
     "output_type": "execute_result"
    }
   ],
   "source": [
    "#Get the total amount of revenue (price) for each country, source\n",
    "step_5 = step_2.groupby(['source']).sum()[['price']]\n",
    "step_5"
   ]
  },
  {
   "cell_type": "code",
   "execution_count": 58,
   "metadata": {},
   "outputs": [
    {
     "data": {
      "image/png": "[encoded data removed]",
      "text/plain": [
       "<matplotlib.figure.Figure at 0x7febdcec1048>"
      ]
     },
     "metadata": {
      "needs_background": "light"
     },
     "output_type": "display_data"
    },
    {
     "name": "stdout",
     "output_type": "stream",
     "text": [
      "           price\n",
      "source          \n",
      "AdWords  27664.0\n",
      "Reddit   89760.0\n",
      "SEO      77056.0\n"
     ]
    }
   ],
   "source": [
    "x = Dilan_Users['source'].unique() #Get unique list of country\n",
    "x = pd.Series(x).sort_values() #pandas method to sort values\n",
    "y = step_5 #revenue for each country\n",
    "ind = np.arange(len(x))\n",
    "width = .35\n",
    "plt1 = plt.bar(x, y['price'], width, color='g') \n",
    "plt.xlabel('Marketing Channel')\n",
    "plt.xticks(ind, x, rotation='vertical')\n",
    "plt.ylabel('Revenue')\n",
    "plt.title('Dylan Travel Guide - Revenue per Marketing channel')\n",
    "plt.show()\n",
    "print(y)"
   ]
  },
  {
   "cell_type": "code",
   "execution_count": 59,
   "metadata": {},
   "outputs": [],
   "source": [
    "#Get the total average of revenue (price) per user for each country\n",
    "step_6 = step_2.groupby(['country']).mean()[['price']]"
   ]
  },
  {
   "cell_type": "code",
   "execution_count": 60,
   "metadata": {},
   "outputs": [
    {
     "data": {
      "image/png": "[encoded data removed]",
      "text/plain": [
       "<matplotlib.figure.Figure at 0x7febe005d9b0>"
      ]
     },
     "metadata": {
      "needs_background": "light"
     },
     "output_type": "display_data"
    },
    {
     "name": "stdout",
     "output_type": "stream",
     "text": [
      "              price\n",
      "country            \n",
      "country_1  0.180924\n",
      "country_2  0.774709\n",
      "country_3  1.302594\n",
      "country_4  2.562916\n",
      "country_5  1.417003\n",
      "country_6  0.524867\n",
      "country_7  0.762431\n",
      "country_8  0.183108\n"
     ]
    }
   ],
   "source": [
    "x = Dilan_Users['country'].unique() #Get unique list of country\n",
    "x = pd.Series(x).sort_values() #pandas method to sort values\n",
    "y = step_6 #revenue for each country\n",
    "ind = np.arange(len(x))\n",
    "width = .35\n",
    "\n",
    "#Display the bar chart\n",
    "step_6.plot.bar()\n",
    "plt.xlabel('Country')\n",
    "plt.xticks(ind, x, rotation='vertical')\n",
    "plt.ylabel('Revenue per User')\n",
    "plt.title('Dylan Travel Guide - Average Revenue per User')\n",
    "plt.show()\n",
    "print(y)"
   ]
  },
  {
   "cell_type": "code",
   "execution_count": null,
   "metadata": {},
   "outputs": [],
   "source": []
  }
 ],
 "metadata": {
  "kernelspec": {
   "display_name": "Python 3",
   "language": "python",
   "name": "python3"
  },
  "language_info": {
   "codemirror_mode": {
    "name": "ipython",
    "version": 3
   },
   "file_extension": ".py",
   "mimetype": "text/x-python",
   "name": "python",
   "nbconvert_exporter": "python",
   "pygments_lexer": "ipython3",
   "version": "3.6.9"
  }
 },
 "nbformat": 4,
 "nbformat_minor": 4
}
